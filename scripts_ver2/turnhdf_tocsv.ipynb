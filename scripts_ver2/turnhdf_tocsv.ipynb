{
 "cells": [
  {
   "cell_type": "markdown",
   "metadata": {},
   "source": [
    "# Converting HDF Files to CSV\n",
    "## By Elizabeth Warrick\n",
    "### Description:\n",
    "This notebook is for taking an hdf file, saving all specified columns to a csv. The purpose of this is to make the manifest for Zooniverse prior to uploading subjects. "
   ]
  },
  {
   "cell_type": "code",
   "execution_count": 34,
   "metadata": {},
   "outputs": [],
   "source": [
    "#Import necessary packages\n",
    "import tables\n",
    "from tables import *\n",
    "import numpy as np\n",
    "import pandas as pd\n",
    "#from matplotlib import pyplot as plt"
   ]
  },
  {
   "cell_type": "code",
   "execution_count": null,
   "metadata": {},
   "outputs": [],
   "source": [
    "#Input desired file path here.\n",
    "class_type = input('Input class type (0-4): ')\n",
    "greaterorless = input('Is the input Greater or Less than? (lower case only)')\n",
    "cut_val = input('Cut Value (decimal only):')\n",
    "\n",
    "file = tables.open_file(f'/home/icecube/Desktop/eliz_zooniverse/icecubezooniverseproj_ver2/i3_files/Run21971/class_type_{class_type}/{greatorless}_than/cut_{str(cut_val)}.hd5')\n",
    "save_path = f'/home/icecube/Desktop/eliz_zooniverse/icecubezooniverseproj_ver2/i3_files/Run21971/class_type_{class_type}/{greaterorless}_than/'\n",
    "\n",
    "#To see available keys:\n",
    "file.root"
   ]
  },
  {
   "cell_type": "code",
   "execution_count": 37,
   "metadata": {},
   "outputs": [],
   "source": [
    "#The following lines are saving each desired column and storing as a variable\n",
    "#I3EventHeader:\n",
    "eventheader = file.root.I3EventHeader\n",
    "run = eventheader.cols.Run[:]\n",
    "event_i3 = eventheader.cols.Event[:]\n",
    "subevent = eventheader.cols.SubEvent[:]\n",
    "subeventstream = eventheader.cols.SubEventStream[:]\n",
    "exists = eventheader.cols.exists[:]\n",
    "time_start_utc_daq = eventheader.cols.time_start_utc_daq[:]\n",
    "time_start_mjd = eventheader.cols.time_start_mjd[:]\n",
    "time_end_utc_daq = eventheader.cols.time_end_utc_daq[:]\n",
    "time_end_mjd = eventheader.cols.time_end_mjd[:]"
   ]
  },
  {
   "cell_type": "code",
   "execution_count": 38,
   "metadata": {},
   "outputs": [],
   "source": [
    "#NuGPrimary\n",
    "nugprimary = file.root.NuGPrimary\n",
    "exists_nuG = nugprimary.cols.exists[:]\n",
    "x_nuG = nugprimary.cols.x[:]\n",
    "y_nuG = nugprimary.cols.y[:]\n",
    "z_nuG = nugprimary.cols.z[:]\n",
    "time_nuG = nugprimary.cols.time[:]\n",
    "zenith_nuG = nugprimary.cols.zenith[:]\n",
    "azimuth_nuG = nugprimary.cols.azimuth[:]\n",
    "energy_nuG = nugprimary.cols.energy[:]\n",
    "speed_nuG = nugprimary.cols.speed[:]\n",
    "length_nuG = nugprimary.cols.length[:]\n",
    "pdg_encoding_nuG = nugprimary.cols.pdg_encoding[:]\n",
    "type_nuG = nugprimary.cols.type[:]\n",
    "shape_nuG = nugprimary.cols.shape[:]\n",
    "location_nuG = nugprimary.cols.location[:]\n",
    "fit_status_nuG = nugprimary.cols.location[:]"
   ]
  },
  {
   "cell_type": "code",
   "execution_count": 40,
   "metadata": {},
   "outputs": [],
   "source": [
    "#PoleMuonLineFit\n",
    "polemuonlinefit = file.root.PoleMuonLinefit\n",
    "exists_pmlf = polemuonlinefit.cols.exists[:]\n",
    "x_pmlf = polemuonlinefit.cols.x[:]\n",
    "y_pmlf = polemuonlinefit.cols.y[:]\n",
    "z_pmlf = polemuonlinefit.cols.z[:]\n",
    "time_pmlf = polemuonlinefit.cols.time[:]\n",
    "zenith_pmlf = polemuonlinefit.cols.zenith[:]\n",
    "azimuth_pmlf = polemuonlinefit.cols.azimuth[:]\n",
    "energy_pmlf = polemuonlinefit.cols.energy[:]\n",
    "speed_pmlf = polemuonlinefit.cols.speed[:]\n",
    "length_pmlf = polemuonlinefit.cols.length[:]\n",
    "pdg_encoding_pmlf = polemuonlinefit.cols.pdg_encoding[:]\n",
    "type_pmlf = polemuonlinefit.cols.type[:]\n",
    "shape_pmlf = polemuonlinefit.cols.shape[:]\n",
    "location_pmlf = polemuonlinefit.cols.shape[:]\n",
    "fit_status_pmlf = polemuonlinefit.cols.fit_status[:]"
   ]
  },
  {
   "cell_type": "code",
   "execution_count": 41,
   "metadata": {},
   "outputs": [],
   "source": [
    "#PoleMuonLlhfit\n",
    "polemuonLlhfit = file.root.PoleMuonLlhFit\n",
    "exists_pmllhf = polemuonLlhfit.cols.exists[:]\n",
    "x_pmllhf = polemuonLlhfit.cols.x[:]\n",
    "y_pmllhf = polemuonLlhfit.cols.y[:]\n",
    "z_pmllhf = polemuonLlhfit.cols.z[:]\n",
    "time_pmllhf = polemuonLlhfit.cols.time[:]\n",
    "zenith_pmllhf = polemuonLlhfit.cols.zenith[:]\n",
    "azimuth_pmllhf = polemuonLlhfit.cols.azimuth[:]\n",
    "energy_pmllhf = polemuonLlhfit.cols.energy[:]\n",
    "speed_pmllhf = polemuonLlhfit.cols.speed[:]\n",
    "length_pmllhf = polemuonLlhfit.cols.length[:]\n",
    "pdg_encoding_pmllhf = polemuonLlhfit.cols.pdg_encoding[:]\n",
    "type_pmllhf = polemuonLlhfit.cols.type[:]\n",
    "shape_pmllhf = polemuonLlhfit.cols.shape[:]\n",
    "location_pmllhf = polemuonLlhfit.cols.shape[:]\n",
    "fit_status_pmllhf = polemuonLlhfit.cols.fit_status[:]"
   ]
  },
  {
   "cell_type": "code",
   "execution_count": 42,
   "metadata": {},
   "outputs": [],
   "source": [
    "#PoleMuonLlhFitMuE\n",
    "polemuonLlhfit_muE = file.root.PoleMuonLlhFitMuE\n",
    "exists_pmllhf_muE = polemuonLlhfit_muE.cols.exists[:]\n",
    "x_pmllhf_muE = polemuonLlhfit_muE.cols.x[:]\n",
    "y_pmllhf_muE = polemuonLlhfit_muE.cols.y[:]\n",
    "z_pmllhf_muE = polemuonLlhfit_muE.cols.z[:]\n",
    "time_pmllhf_muE = polemuonLlhfit_muE.cols.time[:]\n",
    "zenith_pmllhf_muE = polemuonLlhfit_muE.cols.zenith[:]\n",
    "azimuth_pmllhf_muE = polemuonLlhfit_muE.cols.azimuth[:]\n",
    "energy_pmllhf_muE = polemuonLlhfit_muE.cols.energy[:]\n",
    "speed_pmllhf_muE = polemuonLlhfit_muE.cols.speed[:]\n",
    "length_pmllhf_muE = polemuonLlhfit_muE.cols.length[:]\n",
    "pdg_encoding_pmllhf_muE = polemuonLlhfit_muE.cols.pdg_encoding[:]\n",
    "type_pmllhf_muE = polemuonLlhfit_muE.cols.type[:]\n",
    "shape_pmllhf_muE = polemuonLlhfit_muE.cols.shape[:]\n",
    "location_pmllhf_muE = polemuonLlhfit_muE.cols.shape[:]\n",
    "fit_status_pmllhf_muE = polemuonLlhfit_muE.cols.fit_status[:]"
   ]
  },
  {
   "cell_type": "code",
   "execution_count": 43,
   "metadata": {},
   "outputs": [],
   "source": [
    "#ml_suite_classification ; where predictions are stored\n",
    "mlsuiteclass = file.root.ml_suite_classification\n",
    "exists_ml = mlsuiteclass.cols.exists[:]\n",
    "pred00 = mlsuiteclass.cols.prediction_0000[:]\n",
    "pred01 = mlsuiteclass.cols.prediction_0001[:]\n",
    "pred02 = mlsuiteclass.cols.prediction_0002[:]\n",
    "pred03 = mlsuiteclass.cols.prediction_0003[:]\n",
    "pred04 = mlsuiteclass.cols.prediction_0004[:]\n",
    "runtime_pred = mlsuiteclass.cols.runtime_prediction[:]\n",
    "runtime_preprocess = mlsuiteclass.cols.runtime_preprocess[:]"
   ]
  },
  {
   "cell_type": "code",
   "execution_count": 44,
   "metadata": {},
   "outputs": [],
   "source": [
    "#turn into data frame\n",
    "df1 = pd.DataFrame(dict(run = run, event_i3 = event_i3, subevent = subevent, subeventstream=subeventstream, exists=exists, time_start_utc_daq=time_start_utc_daq,time_start_mjd=time_start_mjd, time_end_utc_daq=time_end_utc_daq, time_end_mjd=time_end_mjd))\n",
    "df2 = pd.DataFrame(dict(exists_nuG=exists_nuG, x_nuG=x_nuG, y_nuG=y_nuG, z_nuG=z_nuG, time_nuG=time_nuG, zenith_nuG=zenith_nuG, azimuth_nuG=azimuth_nuG,energy_nuG=energy_nuG, speed_nuG=speed_nuG, length_nuG=length_nuG, pdg_encoding_nuG=pdg_encoding_nuG, type_nuG=type_nuG, shape_nuG=shape_nuG, location_nuG=location_nuG, fit_status_nuG=fit_status_nuG))\n",
    "df3 = pd.DataFrame(dict(exists_pmlf=exists_pmlf, x_pmlf=x_pmlf, y_pmlf=y_pmlf, z_pmlf=z_pmlf, time_pmlf=time_pmlf, zenith_pmlf=zenith_pmlf, azimuth_pmlf=azimuth_pmlf, energy_pmlf=energy_pmlf, speed_pmlf=speed_pmlf, length_pmlf=length_pmlf, pdg_encoding_pmlf=pdg_encoding_pmlf, type_pmlf=type_pmlf, shape_pmlf=shape_pmlf, location_pmlf=location_pmlf, fit_status_pmlf=fit_status_pmlf))\n",
    "df4 = pd.DataFrame(dict(exists_pmllhf = exists_pmllhf, x_pmllhf = x_pmllhf, y_pmllhf = y_pmllhf, z_pmllhf = z_pmllhf, time_pmllhf = time_pmllhf, zenith_pmllhf = zenith_pmllhf, azimuth_pmllhf = azimuth_pmllhf, energy_pmllhf=energy_pmllhf, speed_pmllhf=speed_pmllhf, length_pmllhf=length_pmllhf, pdg_encoding_pmllhf=pdg_encoding_pmllhf, type_pmllhf=type_pmllhf, shape_pmllhf=shape_pmllhf, location_pmllhf=location_pmllhf, fit_status_pmllhf=fit_status_pmllhf)) \n",
    "df5 = pd.DataFrame(dict(exists_pmllhf_muE=exists_pmllhf_muE, x_pmllhf_muE=x_pmllhf_muE, y_pmllhf_muE=y_pmllhf_muE, z_pmllhf_muE=z_pmllhf_muE, time_pmllhf_muE=time_pmllhf_muE, zenith_pmllhf_muE=zenith_pmllhf_muE, azimuth_pmllhf_muE=azimuth_pmllhf_muE, energy_pmllhf_muE=energy_pmllhf_muE, speed_pmllhf_muE=speed_pmllhf_muE, length_pmllhf_muE=length_pmllhf_muE, pdg_encoding_pmllhf_muE=pdg_encoding_pmllhf_muE, type_pmllhf_muE=type_pmllhf_muE, shape_pmllhf_muE=shape_pmllhf_muE, location_pmllhf_muE=location_pmllhf_muE, fit_status_pmllhf_muE=fit_status_pmllhf_muE)) \n",
    "df6 = pd.DataFrame(dict(exists_ml=exists_ml, pred00=pred00, pred01=pred01, pred02=pred02, pred03=pred03, pred04=pred04, runtime_pred=runtime_pred, runtime_preprocess=runtime_preprocess))"
   ]
  },
  {
   "cell_type": "code",
   "execution_count": 45,
   "metadata": {},
   "outputs": [],
   "source": [
    "frames = [df1, df2, df3, df4, df5, df6]"
   ]
  },
  {
   "cell_type": "code",
   "execution_count": 46,
   "metadata": {},
   "outputs": [],
   "source": [
    "frames_combo = pd.concat(frames, axis= 1, sort = False)"
   ]
  },
  {
   "cell_type": "code",
   "execution_count": 47,
   "metadata": {},
   "outputs": [],
   "source": [
    "frames_combo.to_csv(f\"{save_path}cut_{cut_val}.csv\", index = False)"
   ]
  }
 ],
 "metadata": {
  "kernelspec": {
   "display_name": "Python 3",
   "language": "python",
   "name": "python3"
  },
  "language_info": {
   "codemirror_mode": {
    "name": "ipython",
    "version": 3
   },
   "file_extension": ".py",
   "mimetype": "text/x-python",
   "name": "python",
   "nbconvert_exporter": "python",
   "pygments_lexer": "ipython3",
   "version": "3.8.10"
  }
 },
 "nbformat": 4,
 "nbformat_minor": 4
}
