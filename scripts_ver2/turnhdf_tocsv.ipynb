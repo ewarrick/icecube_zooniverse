{
 "cells": [
  {
   "cell_type": "markdown",
   "metadata": {},
   "source": [
    "# Converting HDF Files to CSV\n",
    "## By Elizabeth Warrick\n",
    "### Description:\n",
    "This notebook is for taking an hdf file, saving all specified columns to a csv. The purpose of this is to make the manifest for Zooniverse prior to uploading subjects. "
   ]
  },
  {
   "cell_type": "code",
   "execution_count": 1,
   "metadata": {},
   "outputs": [],
   "source": [
    "#Import necessary packages\n",
    "import tables\n",
    "from tables import *\n",
    "import numpy as np\n",
    "import pandas as pd\n",
    "#from matplotlib import pyplot as plt"
   ]
  },
  {
   "cell_type": "code",
   "execution_count": 4,
   "metadata": {},
   "outputs": [
    {
     "name": "stdout",
     "output_type": "stream",
     "text": [
      "Input class type (0-4): 0\n",
      "Is the input Greater or Less than? (lower case only)less\n",
      "Cut Value (decimal only):0.6\n"
     ]
    },
    {
     "data": {
      "text/plain": [
       "/ (RootGroup) ''\n",
       "  children := ['__I3Index__' (Group), 'I3EventHeader' (Table), 'NuGPrimary' (Table), 'PoleMuonLinefit' (Table), 'PoleMuonLlhFit' (Table), 'PoleMuonLlhFitMuE' (Table), 'ml_suite_classification' (Table)]"
      ]
     },
     "execution_count": 4,
     "metadata": {},
     "output_type": "execute_result"
    }
   ],
   "source": [
    "#Input desired file path here.\n",
    "class_type = input('Input class type (0-4): ')\n",
    "greaterorless = input('Is the input Greater or Less than? (lower case only)')\n",
    "cut_val = input('Cut Value (decimal only):')\n",
    "\n",
    "file = tables.open_file(f'/home/icecube/Desktop/eliz_zooniverse/icecubezooniverseproj_ver2/i3_files/Run21971/class_type_{class_type}/{greaterorless}_than/cut_{str(cut_val)}.hd5')\n",
    "save_path = f'/home/icecube/Desktop/eliz_zooniverse/icecubezooniverseproj_ver2/i3_files/Run21971/class_type_{class_type}/{greaterorless}_than/'\n",
    "\n",
    "#To see available keys:\n",
    "file.root"
   ]
  },
  {
   "cell_type": "code",
   "execution_count": 11,
   "metadata": {},
   "outputs": [
    {
     "name": "stdout",
     "output_type": "stream",
     "text": [
      "[0 0 0 0 0 0 0 0 0 0 0 0 0 0 0 0 1 0 0 0 0 0 0 1 0 0 0 0 0 0 0 0 0 1 0 0 0\n",
      " 0 0 0 1 0 0 0 0 0 0 0 0 0 0 0 0 1 0 0 0 0 0 0 0 0 0 0 0 0 0 0 0 0 0 0 0 0\n",
      " 0 0 0 0 0 0 0 0 0 1 0 0 0 0 0 0 0 0 0 1 0 0 0 0 0 0 0 0 0 0 0 0 0 0 0 1 0\n",
      " 0 0 0 0 0 0 0 0 0 0 0 0 0 0 0 0 0 0 0 0 0 0 0 1 0 0 0 0 1 0 0 0 0 0 0 0 0\n",
      " 0 0 0 0 0 0 1 0 0 0 1 0 0 0 0 0 0 0 0 1 0 0 0 0 0 0 0 0 1 0 0 0 0 0 0 0 0\n",
      " 0 0 0 0 0 0 0 0 0 0 0 1 0 0 0 0 1 0 0 0 0 0 0 0 0 0 0 0 0 0 0 0 0 0 1 0 0\n",
      " 0 0 0 0 1 0 0 0 0 0 0 0 0 0 0 0 0 0 0 0 0 0 0 0 0 1 0 0 0 0 0 0 0 0 1 0 0\n",
      " 0 1 0 0 0 1 0 0 0 0 0 0 0 0 0 0 0 0 0 0 0 0 0 1 0 0 0 0 0 0 0 0 0 0 0 0 0\n",
      " 0 0 0 0 0 0 0 0 0 0 0 0 0 0 0 0 0 0 0 0 1 0 1 0 0 1 0 0 1 0 0 0 0 0 0 0 0\n",
      " 0 0 0 0 0 0 0 0 0 0 0 1 0 0 0 0 0 0 0 0 0 0 1 0 0 0 0 0 0 0 1 0 0 0 0 0 0\n",
      " 0 0 0 1 0 0 0 0 0 0 0 0 1 0 0 1 0 0 0 0 0 0 0 0 0 0 0 0 0 0 0 0 0 1 0 0 0\n",
      " 0 0 0 0 0 0 0 0 0 0 0 0 1 0 0 0 0 0 0 0 0 0 0 0 0 0 0 1 0 0 0 0 0 1 0 0 0\n",
      " 0 0 0 0 0 0 0 0 0 0 0 0 0 0 0 0 0 0 0 0 0 0 0 1 0 0 1 0 0 0 1 0 0 0 0 0 0\n",
      " 0 0 0 0 0 0 0 0 0 0 0 0 0 1 2 0 0 0 0 0 0 0 0 0 0 0 0 0 0 0 0 1 0 0 0 0 0\n",
      " 0 0 0 0 0 0 0 0 0 0 0 0 0 0 0 0 0 0 0 0 0 0 0 0 0 0 0 0 0 0 0 0 0 0 0 0 1\n",
      " 0 0 0 0 0 0 0 1 0 1 0 0 0 0 0 1 0 0 0 0 0 0 1 0 0 0 0 0 0 0 0 0 0 0 0 0 0\n",
      " 0 0 1 0 0 0 0 0 0 0 0 0 0 0 0 1 0 0 0 0 0 0 0 0 0 0 0 0 0 1 0 0 0 0 1 0 0\n",
      " 0 0 0 1 0 0 1 0 0 1 0 0 0 0 0 0 0 0 0 0 0 0 1 0 0 0 0 0]\n"
     ]
    }
   ],
   "source": [
    "#The following lines are saving each desired column and storing as a variable\n",
    "#I3EventHeader:\n",
    "eventheader = file.root.I3EventHeader\n",
    "run = eventheader.cols.Run[:]\n",
    "event_i3 = eventheader.cols.Event[:]\n",
    "subevent = eventheader.cols.SubEvent[:]\n",
    "subeventstream = eventheader.cols.SubEventStream[:]\n",
    "exists = eventheader.cols.exists[:]\n",
    "time_start_utc_daq = eventheader.cols.time_start_utc_daq[:]\n",
    "time_start_mjd = eventheader.cols.time_start_mjd[:]\n",
    "time_end_utc_daq = eventheader.cols.time_end_utc_daq[:]\n",
    "time_end_mjd = eventheader.cols.time_end_mjd[:]\n",
    "file.root.I3EventHeader\n",
    "print(subevent)"
   ]
  },
  {
   "cell_type": "code",
   "execution_count": 10,
   "metadata": {},
   "outputs": [
    {
     "name": "stdout",
     "output_type": "stream",
     "text": [
      "[   68    82   200   205   268   269   337   441   447   492   530   546\n",
      "   562   572   622   670   670   750   784   929   932   939   995   995\n",
      "  1017  1162  1198  1233  1276  1335  1340  1538  1588  1588  1597  1830\n",
      "  1840  2013  2135  2148  2148  2219  2281  2345  2349  2357  2411  2421\n",
      "  2453  2548  2561  2704  2889  2889  2934  2948  2988  3026  3033  3145\n",
      "  3215  3245  3372  3468  3581  3607  3609  3626  3679  3683  3704  3757\n",
      "  3890  3930  4037  4038  4067  4168  4228  4239  4266  4366  4384  4384\n",
      "  4502  4570  4640  4788  4799  4843  4844  4880  4939  4939  4988  4995\n",
      "  5044  5092  5203  5233  5247  5261  5402  5565  5600  5686  5734  5834\n",
      "  5871  5871  5958  5976  6010  6045  6051  6115  6127  6154  6185  6306\n",
      "  6347  6403  6525  6553  6592  6645  6670  6679  6723  6773  6788  6792\n",
      "  6898  7073  7073  7200  7258  7385  7506  7506  7568  7615  7643  7722\n",
      "  7745  7759  7781  7852  7930  7969  8003  8013  8131  8173  8173  8180\n",
      "  8209  8252  8252  8316  8379  8427  8476  8585  8662  8679  8690  8690\n",
      "  8897  8953  8959  8963  9026  9078  9118  9165  9165  9448  9462  9474\n",
      "  9505  9547  9609  9645  9675  9724  9725  9766  9781  9800  9820  9851\n",
      "  9900  9923  9926  9958  9958  9964 10002 10008 10055 10055 10074 10261\n",
      " 10291 10297 10373 10395 10402 10498 10509 10611 10635 10665 10669 10673\n",
      " 10733 10745 10864 10864 10923 11091 11367 11381 11396 11408 11408 11419\n",
      " 11423 11426 11432 11467 11537 11617 11622 11625 11658 11665 11670 11682\n",
      " 11697 11751 11758 11797 11915 11944 11952 11952 11963 11966 11984 12050\n",
      " 12055 12077 12078 12294 12294 12340 12398 12421 12421 12442 12570 12577\n",
      " 12577 12649 12695 12720 12743 12924 12980 13016 13027 13161 13236 13284\n",
      " 13394 13411 13437 13441 13456 13517 13517 13526 13558 13582 13620 13732\n",
      " 13744 13828 13849 13974 14141 14235 14270 14330 14391 14416 14450 14487\n",
      " 14490 14656 14662 14706 14925 14961 15004 15025 15103 15106 15112 15197\n",
      " 15242 15416 15550 15564 15564 15565 15565 15678 15694 15694 15714 15793\n",
      " 15793 15902 15920 15933 15958 15968 16006 16010 16080 16095 16223 16272\n",
      " 16279 16308 16576 16580 16583 16751 16756 16871 16871 16958 17002 17087\n",
      " 17111 17191 17203 17205 17237 17249 17279 17279 17283 17302 17313 17320\n",
      " 17405 17415 17568 17568 17570 17581 17596 17645 17700 17743 17770 17875\n",
      " 17899 17899 17934 17965 17971 17988 18010 18043 18056 18058 18058 18108\n",
      " 18148 18148 18189 18305 18411 18413 18473 18476 18542 18564 18649 18652\n",
      " 18737 18739 18765 18869 18899 18928 19186 19186 19238 19356 19368 19448\n",
      " 19543 19608 19660 19681 19696 19701 19750 19777 19798 19835 19863 19863\n",
      " 19948 19952 19992 20006 20066 20088 20123 20124 20184 20207 20289 20381\n",
      " 20428 20600 20600 20694 20699 20705 20715 20798 20798 20945 20953 21059\n",
      " 21136 21199 21244 21264 21278 21364 21414 21422 21545 21556 21689 21756\n",
      " 21907 21940 21946 21972 22003 22183 22213 22317 22348 22351 22361 22361\n",
      " 22549 22557 22557 22564 22662 22667 22667 22737 22884 22934 22942 22972\n",
      " 23021 23090 23101 23102 23110 23161 23215 23238 23277 23299 23322 23398\n",
      " 23427 23431 23431 23431 23551 23590 23659 23664 23667 23701 23709 23882\n",
      " 24103 24147 24181 24317 24416 24507 24528 24551 24551 24648 24707 24810\n",
      " 24816 24874 24939 25005 25029 25180 25184 25248 25314 25344 25349 25387\n",
      " 25388 25419 25456 25467 25484 25511 25579 25599 25718 25724 25821 25910\n",
      " 25913 25946 25949 26026 26059 26069 26147 26217 26223 26256 26271 26276\n",
      " 26341 26365 26365 26495 26551 26746 26768 26780 26945 26967 26967 27012\n",
      " 27012 27194 27256 27366 27400 27415 27415 27416 27559 27598 27650 27672\n",
      " 27680 27680 27706 27825 27828 27926 27951 28024 28035 28042 28060 28207\n",
      " 28333 28344 28415 28497 28549 28586 28586 28652 28678 28681 28777 28798\n",
      " 28930 29047 29082 29095 29129 29192 29238 29238 29255 29344 29392 29469\n",
      " 29527 29573 29641 29706 29707 29716 29737 29844 29940 29940 30040 30104\n",
      " 30179 30182 30182 30313 30482 30597 30763 30837 30837 30912 30933 30933\n",
      " 31013 31031 31031 31131 31167 31187 31222 31245 31269 31281 31398 31405\n",
      " 31419 31492 31538 31538 31575 31579 31730 31765 31881]\n"
     ]
    }
   ],
   "source": [
    "#NuGPrimary\n",
    "nugprimary = file.root.NuGPrimary\n",
    "event_nuG = nugprimary.cols.Event[:]\n",
    "exists_nuG = nugprimary.cols.exists[:]\n",
    "x_nuG = nugprimary.cols.x[:]\n",
    "y_nuG = nugprimary.cols.y[:]\n",
    "z_nuG = nugprimary.cols.z[:]\n",
    "time_nuG = nugprimary.cols.time[:]\n",
    "zenith_nuG = nugprimary.cols.zenith[:]\n",
    "azimuth_nuG = nugprimary.cols.azimuth[:]\n",
    "energy_nuG = nugprimary.cols.energy[:]\n",
    "speed_nuG = nugprimary.cols.speed[:]\n",
    "length_nuG = nugprimary.cols.length[:]\n",
    "pdg_encoding_nuG = nugprimary.cols.pdg_encoding[:]\n",
    "type_nuG = nugprimary.cols.type[:]\n",
    "shape_nuG = nugprimary.cols.shape[:]\n",
    "location_nuG = nugprimary.cols.location[:]\n",
    "fit_status_nuG = nugprimary.cols.location[:]\n",
    "nugprimary\n",
    "print(event_nuG)"
   ]
  },
  {
   "cell_type": "code",
   "execution_count": 53,
   "metadata": {},
   "outputs": [],
   "source": [
    "#PoleMuonLineFit\n",
    "polemuonlinefit = file.root.PoleMuonLinefit\n",
    "exists_pmlf = polemuonlinefit.cols.exists[:]\n",
    "x_pmlf = polemuonlinefit.cols.x[:]\n",
    "y_pmlf = polemuonlinefit.cols.y[:]\n",
    "z_pmlf = polemuonlinefit.cols.z[:]\n",
    "time_pmlf = polemuonlinefit.cols.time[:]\n",
    "zenith_pmlf = polemuonlinefit.cols.zenith[:]\n",
    "azimuth_pmlf = polemuonlinefit.cols.azimuth[:]\n",
    "energy_pmlf = polemuonlinefit.cols.energy[:]\n",
    "speed_pmlf = polemuonlinefit.cols.speed[:]\n",
    "length_pmlf = polemuonlinefit.cols.length[:]\n",
    "pdg_encoding_pmlf = polemuonlinefit.cols.pdg_encoding[:]\n",
    "type_pmlf = polemuonlinefit.cols.type[:]\n",
    "shape_pmlf = polemuonlinefit.cols.shape[:]\n",
    "location_pmlf = polemuonlinefit.cols.shape[:]\n",
    "fit_status_pmlf = polemuonlinefit.cols.fit_status[:]"
   ]
  },
  {
   "cell_type": "code",
   "execution_count": 54,
   "metadata": {},
   "outputs": [],
   "source": [
    "#PoleMuonLlhfit\n",
    "polemuonLlhfit = file.root.PoleMuonLlhFit\n",
    "exists_pmllhf = polemuonLlhfit.cols.exists[:]\n",
    "x_pmllhf = polemuonLlhfit.cols.x[:]\n",
    "y_pmllhf = polemuonLlhfit.cols.y[:]\n",
    "z_pmllhf = polemuonLlhfit.cols.z[:]\n",
    "time_pmllhf = polemuonLlhfit.cols.time[:]\n",
    "zenith_pmllhf = polemuonLlhfit.cols.zenith[:]\n",
    "azimuth_pmllhf = polemuonLlhfit.cols.azimuth[:]\n",
    "energy_pmllhf = polemuonLlhfit.cols.energy[:]\n",
    "speed_pmllhf = polemuonLlhfit.cols.speed[:]\n",
    "length_pmllhf = polemuonLlhfit.cols.length[:]\n",
    "pdg_encoding_pmllhf = polemuonLlhfit.cols.pdg_encoding[:]\n",
    "type_pmllhf = polemuonLlhfit.cols.type[:]\n",
    "shape_pmllhf = polemuonLlhfit.cols.shape[:]\n",
    "location_pmllhf = polemuonLlhfit.cols.shape[:]\n",
    "fit_status_pmllhf = polemuonLlhfit.cols.fit_status[:]"
   ]
  },
  {
   "cell_type": "code",
   "execution_count": 55,
   "metadata": {},
   "outputs": [],
   "source": [
    "#PoleMuonLlhFitMuE\n",
    "polemuonLlhfit_muE = file.root.PoleMuonLlhFitMuE\n",
    "exists_pmllhf_muE = polemuonLlhfit_muE.cols.exists[:]\n",
    "x_pmllhf_muE = polemuonLlhfit_muE.cols.x[:]\n",
    "y_pmllhf_muE = polemuonLlhfit_muE.cols.y[:]\n",
    "z_pmllhf_muE = polemuonLlhfit_muE.cols.z[:]\n",
    "time_pmllhf_muE = polemuonLlhfit_muE.cols.time[:]\n",
    "zenith_pmllhf_muE = polemuonLlhfit_muE.cols.zenith[:]\n",
    "azimuth_pmllhf_muE = polemuonLlhfit_muE.cols.azimuth[:]\n",
    "energy_pmllhf_muE = polemuonLlhfit_muE.cols.energy[:]\n",
    "speed_pmllhf_muE = polemuonLlhfit_muE.cols.speed[:]\n",
    "length_pmllhf_muE = polemuonLlhfit_muE.cols.length[:]\n",
    "pdg_encoding_pmllhf_muE = polemuonLlhfit_muE.cols.pdg_encoding[:]\n",
    "type_pmllhf_muE = polemuonLlhfit_muE.cols.type[:]\n",
    "shape_pmllhf_muE = polemuonLlhfit_muE.cols.shape[:]\n",
    "location_pmllhf_muE = polemuonLlhfit_muE.cols.shape[:]\n",
    "fit_status_pmllhf_muE = polemuonLlhfit_muE.cols.fit_status[:]"
   ]
  },
  {
   "cell_type": "code",
   "execution_count": 56,
   "metadata": {},
   "outputs": [],
   "source": [
    "#ml_suite_classification ; where predictions are stored\n",
    "mlsuiteclass = file.root.ml_suite_classification\n",
    "exists_ml = mlsuiteclass.cols.exists[:]\n",
    "pred00 = mlsuiteclass.cols.prediction_0000[:]\n",
    "pred01 = mlsuiteclass.cols.prediction_0001[:]\n",
    "pred02 = mlsuiteclass.cols.prediction_0002[:]\n",
    "pred03 = mlsuiteclass.cols.prediction_0003[:]\n",
    "pred04 = mlsuiteclass.cols.prediction_0004[:]\n",
    "runtime_pred = mlsuiteclass.cols.runtime_prediction[:]\n",
    "runtime_preprocess = mlsuiteclass.cols.runtime_preprocess[:]"
   ]
  },
  {
   "cell_type": "code",
   "execution_count": 57,
   "metadata": {},
   "outputs": [],
   "source": [
    "#turn into data frame\n",
    "df1 = pd.DataFrame(dict(run = run, event_i3 = event_i3, subevent = subevent, subeventstream=subeventstream, exists=exists, time_start_utc_daq=time_start_utc_daq,time_start_mjd=time_start_mjd, time_end_utc_daq=time_end_utc_daq, time_end_mjd=time_end_mjd))\n",
    "df2 = pd.DataFrame(dict(exists_nuG=exists_nuG, x_nuG=x_nuG, y_nuG=y_nuG, z_nuG=z_nuG, time_nuG=time_nuG, zenith_nuG=zenith_nuG, azimuth_nuG=azimuth_nuG,energy_nuG=energy_nuG, speed_nuG=speed_nuG, length_nuG=length_nuG, pdg_encoding_nuG=pdg_encoding_nuG, type_nuG=type_nuG, shape_nuG=shape_nuG, location_nuG=location_nuG, fit_status_nuG=fit_status_nuG))\n",
    "df3 = pd.DataFrame(dict(exists_pmlf=exists_pmlf, x_pmlf=x_pmlf, y_pmlf=y_pmlf, z_pmlf=z_pmlf, time_pmlf=time_pmlf, zenith_pmlf=zenith_pmlf, azimuth_pmlf=azimuth_pmlf, energy_pmlf=energy_pmlf, speed_pmlf=speed_pmlf, length_pmlf=length_pmlf, pdg_encoding_pmlf=pdg_encoding_pmlf, type_pmlf=type_pmlf, shape_pmlf=shape_pmlf, location_pmlf=location_pmlf, fit_status_pmlf=fit_status_pmlf))\n",
    "df4 = pd.DataFrame(dict(exists_pmllhf = exists_pmllhf, x_pmllhf = x_pmllhf, y_pmllhf = y_pmllhf, z_pmllhf = z_pmllhf, time_pmllhf = time_pmllhf, zenith_pmllhf = zenith_pmllhf, azimuth_pmllhf = azimuth_pmllhf, energy_pmllhf=energy_pmllhf, speed_pmllhf=speed_pmllhf, length_pmllhf=length_pmllhf, pdg_encoding_pmllhf=pdg_encoding_pmllhf, type_pmllhf=type_pmllhf, shape_pmllhf=shape_pmllhf, location_pmllhf=location_pmllhf, fit_status_pmllhf=fit_status_pmllhf)) \n",
    "df5 = pd.DataFrame(dict(exists_pmllhf_muE=exists_pmllhf_muE, x_pmllhf_muE=x_pmllhf_muE, y_pmllhf_muE=y_pmllhf_muE, z_pmllhf_muE=z_pmllhf_muE, time_pmllhf_muE=time_pmllhf_muE, zenith_pmllhf_muE=zenith_pmllhf_muE, azimuth_pmllhf_muE=azimuth_pmllhf_muE, energy_pmllhf_muE=energy_pmllhf_muE, speed_pmllhf_muE=speed_pmllhf_muE, length_pmllhf_muE=length_pmllhf_muE, pdg_encoding_pmllhf_muE=pdg_encoding_pmllhf_muE, type_pmllhf_muE=type_pmllhf_muE, shape_pmllhf_muE=shape_pmllhf_muE, location_pmllhf_muE=location_pmllhf_muE, fit_status_pmllhf_muE=fit_status_pmllhf_muE)) \n",
    "df6 = pd.DataFrame(dict(exists_ml=exists_ml, pred00=pred00, pred01=pred01, pred02=pred02, pred03=pred03, pred04=pred04, runtime_pred=runtime_pred, runtime_preprocess=runtime_preprocess))"
   ]
  },
  {
   "cell_type": "code",
   "execution_count": 45,
   "metadata": {},
   "outputs": [],
   "source": [
    "frames = [df1, df2, df3, df4, df5, df6]"
   ]
  },
  {
   "cell_type": "code",
   "execution_count": 46,
   "metadata": {},
   "outputs": [],
   "source": [
    "frames_combo = pd.concat(frames, axis= 1, sort = False)"
   ]
  },
  {
   "cell_type": "code",
   "execution_count": 47,
   "metadata": {},
   "outputs": [],
   "source": [
    "frames_combo.to_csv(f\"{save_path}cut_{cut_val}.csv\", index = False)"
   ]
  }
 ],
 "metadata": {
  "kernelspec": {
   "display_name": "Python 3",
   "language": "python",
   "name": "python3"
  },
  "language_info": {
   "codemirror_mode": {
    "name": "ipython",
    "version": 3
   },
   "file_extension": ".py",
   "mimetype": "text/x-python",
   "name": "python",
   "nbconvert_exporter": "python",
   "pygments_lexer": "ipython3",
   "version": "3.8.10"
  }
 },
 "nbformat": 4,
 "nbformat_minor": 4
}
