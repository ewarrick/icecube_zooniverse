{
 "cells": [
  {
   "cell_type": "code",
   "execution_count": 1,
   "metadata": {},
   "outputs": [
    {
     "ename": "ModuleNotFoundError",
     "evalue": "No module named 'sklearn'",
     "output_type": "error",
     "traceback": [
      "\u001b[0;31m---------------------------------------------------------------------------\u001b[0m",
      "\u001b[0;31mModuleNotFoundError\u001b[0m                       Traceback (most recent call last)",
      "\u001b[0;32m<ipython-input-1-0c9ea52cd495>\u001b[0m in \u001b[0;36m<module>\u001b[0;34m\u001b[0m\n\u001b[1;32m      2\u001b[0m \u001b[0;32mimport\u001b[0m \u001b[0mnumpy\u001b[0m \u001b[0;32mas\u001b[0m \u001b[0mnp\u001b[0m\u001b[0;34m\u001b[0m\u001b[0;34m\u001b[0m\u001b[0m\n\u001b[1;32m      3\u001b[0m \u001b[0;32mimport\u001b[0m \u001b[0mpandas\u001b[0m \u001b[0;32mas\u001b[0m \u001b[0mpd\u001b[0m\u001b[0;34m\u001b[0m\u001b[0;34m\u001b[0m\u001b[0m\n\u001b[0;32m----> 4\u001b[0;31m \u001b[0;32mimport\u001b[0m \u001b[0msklearn\u001b[0m\u001b[0;34m\u001b[0m\u001b[0;34m\u001b[0m\u001b[0m\n\u001b[0m\u001b[1;32m      5\u001b[0m \u001b[0;32mimport\u001b[0m \u001b[0micecube\u001b[0m\u001b[0;34m\u001b[0m\u001b[0;34m\u001b[0m\u001b[0m\n\u001b[1;32m      6\u001b[0m \u001b[0;32mimport\u001b[0m \u001b[0msys\u001b[0m\u001b[0;34m\u001b[0m\u001b[0;34m\u001b[0m\u001b[0m\n",
      "\u001b[0;31mModuleNotFoundError\u001b[0m: No module named 'sklearn'"
     ]
    }
   ],
   "source": [
    "#Imports modules\n",
    "import numpy as np\n",
    "import pandas as pd\n",
    "import sklearn\n",
    "import icecube\n",
    "import sys\n",
    "import glob\n",
    "import joblib\n",
    "from icecube import dataio, dataclasses, icetray\n",
    "from I3Tray import *\n",
    "import sys"
   ]
  },
  {
   "cell_type": "code",
   "execution_count": null,
   "metadata": {},
   "outputs": [],
   "source": [
    "def load_geometry():\n",
    "    #Loads detector geometry file\n",
    "    geofile = dataio.I3File('GeoCalibDetectorStatus_AVG_55697-57531_PASS2_SPE_withScaledNoise.i3.gz')\n",
    "\n",
    "    #Saves geometry frame from geofile and then saves DOM geometry (position) information in geometry\n",
    "    gframe = geofile.pop_frame(icetray.I3Frame.Geometry)\n",
    "    geometry = gframe['I3Geometry']\n",
    "    \n",
    "    return geometry\n",
    "\n",
    "def get_dom_info(geometry):\n",
    "    \n",
    "    #outer_keys/outer_doms will hold the OMKeys/DOM positions for DOMs located in the outer strings, defined by outer_strings\n",
    "    outer_keys = []\n",
    "    outer_strings = [1,2,3,4,5,6,7,13,14,21,22,30,31,40,41,50,51,59,60,67,68,72,73,74,75,76,77,78]\n",
    "\n",
    "    #inner_strings holds the string indices that are not included in the outer strings, but also does not include deepcore\n",
    "    inner_strings = [8,9,10,11,12,15,16,17,18,19,20,23,24,25,26,27,28,29,32,33,34,35,36,37,38,39,42,43,44,45,46,47,48,49,52,53,\n",
    "                     54,55,56,57,58,61,62,63,64,65,66,69,70,71]\n",
    "\n",
    "    #gets the positional information and OMKeys for each DOM\n",
    "    dom_pos = [j.position for i,j in geometry.omgeo]\n",
    "    geo_keys = [i for i in geometry.omgeo.keys()]\n",
    "\n",
    "    #loops through all strings in the inner_strings and adds the first&last DOM positional info/OMkey to outer keys & doms since\n",
    "    #events can clip on the top and bottom of the detector\n",
    "    for i in range(len(geo_keys)):\n",
    "        \n",
    "        for j in inner_strings:\n",
    "            \n",
    "            if geo_keys[i][0] == j and (geo_keys[i][0] == 1 or geo_keys[i][1] == 60):\n",
    "                \n",
    "                outer_keys.append(geo_keys[i])\n",
    "\n",
    "    #Adds all outer DOM positional info/OMkeys to their lists \n",
    "    for i in range(len(geo_keys)):\n",
    "        \n",
    "        for j in outer_strings:\n",
    "            \n",
    "            #<= 60 condition is to make sure that only the 60 DOMs per string are counted, some have more than 60\n",
    "            if geo_keys[i][0] == j and geo_keys[i][1] <= 60:\n",
    "                \n",
    "                outer_keys.append(geo_keys[i])\n",
    "                \n",
    "    return outer_keys, geo_keys, dom_pos"
   ]
  },
  {
   "cell_type": "code",
   "execution_count": null,
   "metadata": {},
   "outputs": [],
   "source": [
    "def isolateframe(frame, pulses):\n",
    "    \n",
    "    geometry = load_geometry()\n",
    "    outer_keys, geo_keys, dom_pos = get_dom_info(geometry)\n",
    "    #loads in trained random forest\n",
    "    ranfor = joblib.load('trained_corner_clippers_final.joblib')\n",
    "    #gets the values of the 4 features and then predicts based on them\n",
    "    CoG_r, ratio, CoG_z, total_charge = get_vals(frame,pulses, outer_keys, geo_keys, dom_pos)\n",
    "    X = np.array([CoG_r,ratio,CoG_z,total_charge])\n",
    "    X = X.reshape(1,-1)\n",
    "    y_pred = ranfor.predict(X)\n",
    "    \n",
    "    #if y_pred equals 1, then the event is a corner clipper, and assigns an 'isclip' label to the event that is true\n",
    "    if y_pred == 1:\n",
    "        \n",
    "        frame['isclip'] = icetray.I3Bool(True)\n",
    "    \n",
    "    else:\n",
    "        #if not, the event is not a corner clipper so 'isclip' is false for the event\n",
    "        frame['isclip'] = icetray.I3Bool(False)\n",
    "        \n",
    "    return True"
   ]
  },
  {
   "cell_type": "code",
   "execution_count": null,
   "metadata": {},
   "outputs": [],
   "source": [
    "#takes *.i3 files from the command line a.\n",
    "#Will then create ONE file . \n",
    "def main():\n",
    "\n",
    "    input_files = []\n",
    "\n",
    "    for i, arg in enumerate(sys.argv):\n",
    "        \n",
    "        if i == 0:\n",
    "            continue\n",
    "        else:\n",
    "            input_files.append(arg)\n",
    "\n",
    "    tray = I3Tray()\n",
    "    tray.Add('I3Reader', FilenameList=input_files)\n",
    "    tray.Add(primary_cut, pulses='SRTHVInIcePulses') \n",
    "    tray.Add('I3Writer', 'EventWriter',\n",
    "\tFileName='no_cc_' + input_files[0],\n",
    "        Streams=[icetray.I3Frame.TrayInfo,\n",
    "        icetray.I3Frame.DAQ,\n",
    "        icetray.I3Frame.Physics,\n",
    "        icetray.I3Frame.Stream('S')],\n",
    "        DropOrphanStreams=[icetray.I3Frame.DAQ], )\n",
    "    tray.AddModule('TrashCan','can')\n",
    "    tray.Execute()\n",
    "    tray.Finish()\n",
    "    return\n",
    "\n",
    "if __name__ == \"__main__\":\n",
    "    main()\n",
    "    sys.exit()"
   ]
  }
 ],
 "metadata": {
  "kernelspec": {
   "display_name": "Python 3",
   "language": "python",
   "name": "python3"
  },
  "language_info": {
   "codemirror_mode": {
    "name": "ipython",
    "version": 3
   },
   "file_extension": ".py",
   "mimetype": "text/x-python",
   "name": "python",
   "nbconvert_exporter": "python",
   "pygments_lexer": "ipython3",
   "version": "3.7.3"
  }
 },
 "nbformat": 4,
 "nbformat_minor": 2
}
